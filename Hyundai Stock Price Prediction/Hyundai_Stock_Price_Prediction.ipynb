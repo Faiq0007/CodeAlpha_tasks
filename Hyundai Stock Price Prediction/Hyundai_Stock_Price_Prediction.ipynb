{
 "cells": [
  {
   "cell_type": "markdown",
   "metadata": {},
   "source": [
    "### Importing the Dependencies"
   ]
  },
  {
   "cell_type": "code",
   "execution_count": 1,
   "metadata": {
    "colab": {
     "base_uri": "https://localhost:8080/"
    },
    "id": "IYeeijgoT979",
    "outputId": "84aa610f-aa3f-4d79-831e-368311c342cb",
    "scrolled": true
   },
   "outputs": [
    {
     "name": "stdout",
     "output_type": "stream",
     "text": [
      "Requirement already satisfied: chart-studio in c:\\users\\44771\\appdata\\local\\programs\\python\\python311\\lib\\site-packages (1.1.0)\n",
      "Requirement already satisfied: plotly in c:\\users\\44771\\appdata\\local\\programs\\python\\python311\\lib\\site-packages (from chart-studio) (5.24.1)\n",
      "Requirement already satisfied: requests in c:\\users\\44771\\appdata\\local\\programs\\python\\python311\\lib\\site-packages (from chart-studio) (2.31.0)\n",
      "Requirement already satisfied: retrying>=1.3.3 in c:\\users\\44771\\appdata\\local\\programs\\python\\python311\\lib\\site-packages (from chart-studio) (1.3.4)\n",
      "Requirement already satisfied: six in c:\\users\\44771\\appdata\\local\\programs\\python\\python311\\lib\\site-packages (from chart-studio) (1.16.0)\n",
      "Requirement already satisfied: tenacity>=6.2.0 in c:\\users\\44771\\appdata\\local\\programs\\python\\python311\\lib\\site-packages (from plotly->chart-studio) (9.0.0)\n",
      "Requirement already satisfied: packaging in c:\\users\\44771\\appdata\\local\\programs\\python\\python311\\lib\\site-packages (from plotly->chart-studio) (24.1)\n",
      "Requirement already satisfied: charset-normalizer<4,>=2 in c:\\users\\44771\\appdata\\local\\programs\\python\\python311\\lib\\site-packages (from requests->chart-studio) (3.2.0)\n",
      "Requirement already satisfied: idna<4,>=2.5 in c:\\users\\44771\\appdata\\local\\programs\\python\\python311\\lib\\site-packages (from requests->chart-studio) (3.4)\n",
      "Requirement already satisfied: urllib3<3,>=1.21.1 in c:\\users\\44771\\appdata\\local\\programs\\python\\python311\\lib\\site-packages (from requests->chart-studio) (2.0.4)\n",
      "Requirement already satisfied: certifi>=2017.4.17 in c:\\users\\44771\\appdata\\local\\programs\\python\\python311\\lib\\site-packages (from requests->chart-studio) (2023.7.22)\n",
      "Requirement already satisfied: plotly in c:\\users\\44771\\appdata\\local\\programs\\python\\python311\\lib\\site-packages (5.24.1)\n",
      "Requirement already satisfied: tenacity>=6.2.0 in c:\\users\\44771\\appdata\\local\\programs\\python\\python311\\lib\\site-packages (from plotly) (9.0.0)\n",
      "Requirement already satisfied: packaging in c:\\users\\44771\\appdata\\local\\programs\\python\\python311\\lib\\site-packages (from plotly) (24.1)\n",
      "Requirement already satisfied: tensorflow in c:\\users\\44771\\appdata\\local\\programs\\python\\python311\\lib\\site-packages (2.17.0)\n",
      "Requirement already satisfied: tensorflow-intel==2.17.0 in c:\\users\\44771\\appdata\\local\\programs\\python\\python311\\lib\\site-packages (from tensorflow) (2.17.0)\n",
      "Requirement already satisfied: absl-py>=1.0.0 in c:\\users\\44771\\appdata\\local\\programs\\python\\python311\\lib\\site-packages (from tensorflow-intel==2.17.0->tensorflow) (2.1.0)\n",
      "Requirement already satisfied: astunparse>=1.6.0 in c:\\users\\44771\\appdata\\local\\programs\\python\\python311\\lib\\site-packages (from tensorflow-intel==2.17.0->tensorflow) (1.6.3)\n",
      "Requirement already satisfied: flatbuffers>=24.3.25 in c:\\users\\44771\\appdata\\local\\programs\\python\\python311\\lib\\site-packages (from tensorflow-intel==2.17.0->tensorflow) (24.3.25)\n",
      "Requirement already satisfied: gast!=0.5.0,!=0.5.1,!=0.5.2,>=0.2.1 in c:\\users\\44771\\appdata\\local\\programs\\python\\python311\\lib\\site-packages (from tensorflow-intel==2.17.0->tensorflow) (0.6.0)\n",
      "Requirement already satisfied: google-pasta>=0.1.1 in c:\\users\\44771\\appdata\\local\\programs\\python\\python311\\lib\\site-packages (from tensorflow-intel==2.17.0->tensorflow) (0.2.0)\n",
      "Requirement already satisfied: h5py>=3.10.0 in c:\\users\\44771\\appdata\\local\\programs\\python\\python311\\lib\\site-packages (from tensorflow-intel==2.17.0->tensorflow) (3.12.1)\n",
      "Requirement already satisfied: libclang>=13.0.0 in c:\\users\\44771\\appdata\\local\\programs\\python\\python311\\lib\\site-packages (from tensorflow-intel==2.17.0->tensorflow) (18.1.1)\n",
      "Requirement already satisfied: ml-dtypes<0.5.0,>=0.3.1 in c:\\users\\44771\\appdata\\local\\programs\\python\\python311\\lib\\site-packages (from tensorflow-intel==2.17.0->tensorflow) (0.4.1)\n",
      "Requirement already satisfied: opt-einsum>=2.3.2 in c:\\users\\44771\\appdata\\local\\programs\\python\\python311\\lib\\site-packages (from tensorflow-intel==2.17.0->tensorflow) (3.4.0)\n",
      "Requirement already satisfied: packaging in c:\\users\\44771\\appdata\\local\\programs\\python\\python311\\lib\\site-packages (from tensorflow-intel==2.17.0->tensorflow) (24.1)\n",
      "Requirement already satisfied: protobuf!=4.21.0,!=4.21.1,!=4.21.2,!=4.21.3,!=4.21.4,!=4.21.5,<5.0.0dev,>=3.20.3 in c:\\users\\44771\\appdata\\local\\programs\\python\\python311\\lib\\site-packages (from tensorflow-intel==2.17.0->tensorflow) (4.25.5)\n",
      "Requirement already satisfied: requests<3,>=2.21.0 in c:\\users\\44771\\appdata\\local\\programs\\python\\python311\\lib\\site-packages (from tensorflow-intel==2.17.0->tensorflow) (2.31.0)\n",
      "Requirement already satisfied: setuptools in c:\\users\\44771\\appdata\\local\\programs\\python\\python311\\lib\\site-packages (from tensorflow-intel==2.17.0->tensorflow) (65.5.0)\n",
      "Requirement already satisfied: six>=1.12.0 in c:\\users\\44771\\appdata\\local\\programs\\python\\python311\\lib\\site-packages (from tensorflow-intel==2.17.0->tensorflow) (1.16.0)\n",
      "Requirement already satisfied: termcolor>=1.1.0 in c:\\users\\44771\\appdata\\local\\programs\\python\\python311\\lib\\site-packages (from tensorflow-intel==2.17.0->tensorflow) (2.5.0)\n",
      "Requirement already satisfied: typing-extensions>=3.6.6 in c:\\users\\44771\\appdata\\local\\programs\\python\\python311\\lib\\site-packages (from tensorflow-intel==2.17.0->tensorflow) (4.12.2)\n",
      "Requirement already satisfied: wrapt>=1.11.0 in c:\\users\\44771\\appdata\\local\\programs\\python\\python311\\lib\\site-packages (from tensorflow-intel==2.17.0->tensorflow) (1.16.0)\n",
      "Requirement already satisfied: grpcio<2.0,>=1.24.3 in c:\\users\\44771\\appdata\\local\\programs\\python\\python311\\lib\\site-packages (from tensorflow-intel==2.17.0->tensorflow) (1.67.0)\n",
      "Requirement already satisfied: tensorboard<2.18,>=2.17 in c:\\users\\44771\\appdata\\local\\programs\\python\\python311\\lib\\site-packages (from tensorflow-intel==2.17.0->tensorflow) (2.17.1)\n",
      "Requirement already satisfied: keras>=3.2.0 in c:\\users\\44771\\appdata\\local\\programs\\python\\python311\\lib\\site-packages (from tensorflow-intel==2.17.0->tensorflow) (3.6.0)\n",
      "Requirement already satisfied: tensorflow-io-gcs-filesystem>=0.23.1 in c:\\users\\44771\\appdata\\local\\programs\\python\\python311\\lib\\site-packages (from tensorflow-intel==2.17.0->tensorflow) (0.31.0)\n",
      "Requirement already satisfied: numpy<2.0.0,>=1.23.5 in c:\\users\\44771\\appdata\\local\\programs\\python\\python311\\lib\\site-packages (from tensorflow-intel==2.17.0->tensorflow) (1.26.4)\n",
      "Requirement already satisfied: wheel<1.0,>=0.23.0 in c:\\users\\44771\\appdata\\local\\programs\\python\\python311\\lib\\site-packages (from astunparse>=1.6.0->tensorflow-intel==2.17.0->tensorflow) (0.44.0)\n",
      "Requirement already satisfied: rich in c:\\users\\44771\\appdata\\local\\programs\\python\\python311\\lib\\site-packages (from keras>=3.2.0->tensorflow-intel==2.17.0->tensorflow) (13.9.2)\n",
      "Requirement already satisfied: namex in c:\\users\\44771\\appdata\\local\\programs\\python\\python311\\lib\\site-packages (from keras>=3.2.0->tensorflow-intel==2.17.0->tensorflow) (0.0.8)\n",
      "Requirement already satisfied: optree in c:\\users\\44771\\appdata\\local\\programs\\python\\python311\\lib\\site-packages (from keras>=3.2.0->tensorflow-intel==2.17.0->tensorflow) (0.13.0)\n",
      "Requirement already satisfied: charset-normalizer<4,>=2 in c:\\users\\44771\\appdata\\local\\programs\\python\\python311\\lib\\site-packages (from requests<3,>=2.21.0->tensorflow-intel==2.17.0->tensorflow) (3.2.0)\n",
      "Requirement already satisfied: idna<4,>=2.5 in c:\\users\\44771\\appdata\\local\\programs\\python\\python311\\lib\\site-packages (from requests<3,>=2.21.0->tensorflow-intel==2.17.0->tensorflow) (3.4)\n",
      "Requirement already satisfied: urllib3<3,>=1.21.1 in c:\\users\\44771\\appdata\\local\\programs\\python\\python311\\lib\\site-packages (from requests<3,>=2.21.0->tensorflow-intel==2.17.0->tensorflow) (2.0.4)\n",
      "Requirement already satisfied: certifi>=2017.4.17 in c:\\users\\44771\\appdata\\local\\programs\\python\\python311\\lib\\site-packages (from requests<3,>=2.21.0->tensorflow-intel==2.17.0->tensorflow) (2023.7.22)\n",
      "Requirement already satisfied: markdown>=2.6.8 in c:\\users\\44771\\appdata\\local\\programs\\python\\python311\\lib\\site-packages (from tensorboard<2.18,>=2.17->tensorflow-intel==2.17.0->tensorflow) (3.7)\n",
      "Requirement already satisfied: tensorboard-data-server<0.8.0,>=0.7.0 in c:\\users\\44771\\appdata\\local\\programs\\python\\python311\\lib\\site-packages (from tensorboard<2.18,>=2.17->tensorflow-intel==2.17.0->tensorflow) (0.7.2)\n",
      "Requirement already satisfied: werkzeug>=1.0.1 in c:\\users\\44771\\appdata\\local\\programs\\python\\python311\\lib\\site-packages (from tensorboard<2.18,>=2.17->tensorflow-intel==2.17.0->tensorflow) (3.0.4)\n",
      "Requirement already satisfied: MarkupSafe>=2.1.1 in c:\\users\\44771\\appdata\\local\\programs\\python\\python311\\lib\\site-packages (from werkzeug>=1.0.1->tensorboard<2.18,>=2.17->tensorflow-intel==2.17.0->tensorflow) (2.1.5)\n",
      "Requirement already satisfied: markdown-it-py>=2.2.0 in c:\\users\\44771\\appdata\\local\\programs\\python\\python311\\lib\\site-packages (from rich->keras>=3.2.0->tensorflow-intel==2.17.0->tensorflow) (3.0.0)\n",
      "Requirement already satisfied: pygments<3.0.0,>=2.13.0 in c:\\users\\44771\\appdata\\local\\programs\\python\\python311\\lib\\site-packages (from rich->keras>=3.2.0->tensorflow-intel==2.17.0->tensorflow) (2.18.0)\n",
      "Requirement already satisfied: mdurl~=0.1 in c:\\users\\44771\\appdata\\local\\programs\\python\\python311\\lib\\site-packages (from markdown-it-py>=2.2.0->rich->keras>=3.2.0->tensorflow-intel==2.17.0->tensorflow) (0.1.2)\n"
     ]
    }
   ],
   "source": [
    "!pip install chart-studio\n",
    "!pip install plotly --upgrade\n",
    "!pip install tensorflow\n",
    "import pandas as pd\n",
    "import numpy as np\n",
    "import warnings\n",
    "import tensorflow as tf\n",
    "from tensorflow.keras.models import Sequential\n",
    "from tensorflow.keras.layers import Dense, LSTM\n",
    "from sklearn.preprocessing import MinMaxScaler\n",
    "from sklearn.preprocessing import StandardScaler\n",
    "import matplotlib.pyplot as plt\n",
    "import chart_studio.plotly as py\n",
    "import plotly.graph_objects as go\n",
    "import plotly.io as pio\n",
    "pio.renderers.default = \"iframe\"\n",
    "warnings.filterwarnings('ignore')\n",
    "%matplotlib inline"
   ]
  },
  {
   "cell_type": "markdown",
   "metadata": {},
   "source": [
    "### Data Exploration"
   ]
  },
  {
   "cell_type": "code",
   "execution_count": 2,
   "metadata": {
    "id": "KcB3aKITfx2R"
   },
   "outputs": [],
   "source": [
    "df = pd.read_csv('005380.KS.csv')"
   ]
  },
  {
   "cell_type": "code",
   "execution_count": 3,
   "metadata": {
    "colab": {
     "base_uri": "https://localhost:8080/",
     "height": 423
    },
    "id": "spJXCAPff4no",
    "outputId": "090a9739-37c9-4542-8a9d-59425d5fde53"
   },
   "outputs": [
    {
     "data": {
      "text/html": [
       "<div>\n",
       "<style scoped>\n",
       "    .dataframe tbody tr th:only-of-type {\n",
       "        vertical-align: middle;\n",
       "    }\n",
       "\n",
       "    .dataframe tbody tr th {\n",
       "        vertical-align: top;\n",
       "    }\n",
       "\n",
       "    .dataframe thead th {\n",
       "        text-align: right;\n",
       "    }\n",
       "</style>\n",
       "<table border=\"1\" class=\"dataframe\">\n",
       "  <thead>\n",
       "    <tr style=\"text-align: right;\">\n",
       "      <th></th>\n",
       "      <th>Date</th>\n",
       "      <th>Open</th>\n",
       "      <th>High</th>\n",
       "      <th>Low</th>\n",
       "      <th>Close</th>\n",
       "      <th>Adj Close</th>\n",
       "      <th>Volume</th>\n",
       "    </tr>\n",
       "  </thead>\n",
       "  <tbody>\n",
       "    <tr>\n",
       "      <th>0</th>\n",
       "      <td>2016-01-04</td>\n",
       "      <td>147500.0</td>\n",
       "      <td>148000.0</td>\n",
       "      <td>143500.0</td>\n",
       "      <td>144000.0</td>\n",
       "      <td>110097.859375</td>\n",
       "      <td>445332.0</td>\n",
       "    </tr>\n",
       "    <tr>\n",
       "      <th>1</th>\n",
       "      <td>2016-01-05</td>\n",
       "      <td>143000.0</td>\n",
       "      <td>145000.0</td>\n",
       "      <td>142000.0</td>\n",
       "      <td>143500.0</td>\n",
       "      <td>109715.578125</td>\n",
       "      <td>530496.0</td>\n",
       "    </tr>\n",
       "    <tr>\n",
       "      <th>2</th>\n",
       "      <td>2016-01-06</td>\n",
       "      <td>144000.0</td>\n",
       "      <td>145000.0</td>\n",
       "      <td>139000.0</td>\n",
       "      <td>140000.0</td>\n",
       "      <td>107039.601562</td>\n",
       "      <td>769406.0</td>\n",
       "    </tr>\n",
       "    <tr>\n",
       "      <th>3</th>\n",
       "      <td>2016-01-07</td>\n",
       "      <td>138500.0</td>\n",
       "      <td>140000.0</td>\n",
       "      <td>137500.0</td>\n",
       "      <td>137500.0</td>\n",
       "      <td>105128.171875</td>\n",
       "      <td>586187.0</td>\n",
       "    </tr>\n",
       "    <tr>\n",
       "      <th>4</th>\n",
       "      <td>2016-01-08</td>\n",
       "      <td>134500.0</td>\n",
       "      <td>138000.0</td>\n",
       "      <td>133500.0</td>\n",
       "      <td>136500.0</td>\n",
       "      <td>104363.593750</td>\n",
       "      <td>888701.0</td>\n",
       "    </tr>\n",
       "    <tr>\n",
       "      <th>...</th>\n",
       "      <td>...</td>\n",
       "      <td>...</td>\n",
       "      <td>...</td>\n",
       "      <td>...</td>\n",
       "      <td>...</td>\n",
       "      <td>...</td>\n",
       "      <td>...</td>\n",
       "    </tr>\n",
       "    <tr>\n",
       "      <th>2151</th>\n",
       "      <td>2024-10-14</td>\n",
       "      <td>250500.0</td>\n",
       "      <td>254000.0</td>\n",
       "      <td>248000.0</td>\n",
       "      <td>248500.0</td>\n",
       "      <td>248500.000000</td>\n",
       "      <td>307668.0</td>\n",
       "    </tr>\n",
       "    <tr>\n",
       "      <th>2152</th>\n",
       "      <td>2024-10-15</td>\n",
       "      <td>249500.0</td>\n",
       "      <td>249500.0</td>\n",
       "      <td>246000.0</td>\n",
       "      <td>246000.0</td>\n",
       "      <td>246000.000000</td>\n",
       "      <td>382087.0</td>\n",
       "    </tr>\n",
       "    <tr>\n",
       "      <th>2153</th>\n",
       "      <td>2024-10-16</td>\n",
       "      <td>246000.0</td>\n",
       "      <td>247000.0</td>\n",
       "      <td>242000.0</td>\n",
       "      <td>247000.0</td>\n",
       "      <td>247000.000000</td>\n",
       "      <td>799813.0</td>\n",
       "    </tr>\n",
       "    <tr>\n",
       "      <th>2154</th>\n",
       "      <td>2024-10-17</td>\n",
       "      <td>NaN</td>\n",
       "      <td>NaN</td>\n",
       "      <td>NaN</td>\n",
       "      <td>NaN</td>\n",
       "      <td>NaN</td>\n",
       "      <td>NaN</td>\n",
       "    </tr>\n",
       "    <tr>\n",
       "      <th>2155</th>\n",
       "      <td>2024-10-18</td>\n",
       "      <td>237000.0</td>\n",
       "      <td>239000.0</td>\n",
       "      <td>233000.0</td>\n",
       "      <td>234500.0</td>\n",
       "      <td>234500.000000</td>\n",
       "      <td>696368.0</td>\n",
       "    </tr>\n",
       "  </tbody>\n",
       "</table>\n",
       "<p>2156 rows × 7 columns</p>\n",
       "</div>"
      ],
      "text/plain": [
       "            Date      Open      High       Low     Close      Adj Close  \\\n",
       "0     2016-01-04  147500.0  148000.0  143500.0  144000.0  110097.859375   \n",
       "1     2016-01-05  143000.0  145000.0  142000.0  143500.0  109715.578125   \n",
       "2     2016-01-06  144000.0  145000.0  139000.0  140000.0  107039.601562   \n",
       "3     2016-01-07  138500.0  140000.0  137500.0  137500.0  105128.171875   \n",
       "4     2016-01-08  134500.0  138000.0  133500.0  136500.0  104363.593750   \n",
       "...          ...       ...       ...       ...       ...            ...   \n",
       "2151  2024-10-14  250500.0  254000.0  248000.0  248500.0  248500.000000   \n",
       "2152  2024-10-15  249500.0  249500.0  246000.0  246000.0  246000.000000   \n",
       "2153  2024-10-16  246000.0  247000.0  242000.0  247000.0  247000.000000   \n",
       "2154  2024-10-17       NaN       NaN       NaN       NaN            NaN   \n",
       "2155  2024-10-18  237000.0  239000.0  233000.0  234500.0  234500.000000   \n",
       "\n",
       "        Volume  \n",
       "0     445332.0  \n",
       "1     530496.0  \n",
       "2     769406.0  \n",
       "3     586187.0  \n",
       "4     888701.0  \n",
       "...        ...  \n",
       "2151  307668.0  \n",
       "2152  382087.0  \n",
       "2153  799813.0  \n",
       "2154       NaN  \n",
       "2155  696368.0  \n",
       "\n",
       "[2156 rows x 7 columns]"
      ]
     },
     "execution_count": 3,
     "metadata": {},
     "output_type": "execute_result"
    }
   ],
   "source": [
    "df"
   ]
  },
  {
   "cell_type": "code",
   "execution_count": 4,
   "metadata": {
    "colab": {
     "base_uri": "https://localhost:8080/"
    },
    "id": "pCSXiXfqVJAE",
    "outputId": "5988be7a-f893-4128-9357-308f4045ca09"
   },
   "outputs": [
    {
     "name": "stdout",
     "output_type": "stream",
     "text": [
      "<class 'pandas.core.frame.DataFrame'>\n",
      "RangeIndex: 2156 entries, 0 to 2155\n",
      "Data columns (total 7 columns):\n",
      " #   Column     Non-Null Count  Dtype  \n",
      "---  ------     --------------  -----  \n",
      " 0   Date       2156 non-null   object \n",
      " 1   Open       2155 non-null   float64\n",
      " 2   High       2155 non-null   float64\n",
      " 3   Low        2155 non-null   float64\n",
      " 4   Close      2155 non-null   float64\n",
      " 5   Adj Close  2155 non-null   float64\n",
      " 6   Volume     2155 non-null   float64\n",
      "dtypes: float64(6), object(1)\n",
      "memory usage: 118.0+ KB\n"
     ]
    }
   ],
   "source": [
    "df.info()"
   ]
  },
  {
   "cell_type": "markdown",
   "metadata": {},
   "source": [
    "### Data Cleaning and Manipulation "
   ]
  },
  {
   "cell_type": "code",
   "execution_count": 5,
   "metadata": {
    "colab": {
     "base_uri": "https://localhost:8080/",
     "height": 303
    },
    "id": "q2sbwJq0f6_4",
    "outputId": "a4292892-b15a-4dae-cda8-53b9819de45e"
   },
   "outputs": [
    {
     "data": {
      "text/plain": [
       "Date         0\n",
       "Open         1\n",
       "High         1\n",
       "Low          1\n",
       "Close        1\n",
       "Adj Close    1\n",
       "Volume       1\n",
       "dtype: int64"
      ]
     },
     "execution_count": 5,
     "metadata": {},
     "output_type": "execute_result"
    }
   ],
   "source": [
    "df.isnull().sum()"
   ]
  },
  {
   "cell_type": "code",
   "execution_count": 6,
   "metadata": {
    "colab": {
     "base_uri": "https://localhost:8080/",
     "height": 303
    },
    "id": "JSJ6Go10zT-u",
    "outputId": "a933030a-fb85-4a3b-bfff-49fbc0b69f29"
   },
   "outputs": [
    {
     "data": {
      "text/plain": [
       "Date         0\n",
       "Open         0\n",
       "High         0\n",
       "Low          0\n",
       "Close        0\n",
       "Adj Close    0\n",
       "Volume       0\n",
       "dtype: int64"
      ]
     },
     "execution_count": 6,
     "metadata": {},
     "output_type": "execute_result"
    }
   ],
   "source": [
    "df = df.dropna()\n",
    "df.isnull().sum()"
   ]
  },
  {
   "cell_type": "code",
   "execution_count": 7,
   "metadata": {
    "id": "UAUGjovJ12-X"
   },
   "outputs": [],
   "source": [
    "df['Date'] =  pd.to_datetime(df['Date'])"
   ]
  },
  {
   "cell_type": "code",
   "execution_count": 8,
   "metadata": {
    "colab": {
     "base_uri": "https://localhost:8080/"
    },
    "id": "LWWoNWrs2MzE",
    "outputId": "1234d23f-c34a-4f4c-839a-cf2f1ad9be8e"
   },
   "outputs": [
    {
     "name": "stdout",
     "output_type": "stream",
     "text": [
      "This Data contains dates from 2016-01-04 00:00:00 to 2024-10-18 00:00:00\n",
      "Total days are 3210\n"
     ]
    }
   ],
   "source": [
    "print(f'This Data contains dates from {df.Date.min()} to {df.Date.max()}')\n",
    "print(f'Total days are {(df.Date.max() - df.Date.min()).days}')"
   ]
  },
  {
   "cell_type": "code",
   "execution_count": 9,
   "metadata": {
    "colab": {
     "base_uri": "https://localhost:8080/",
     "height": 300
    },
    "id": "YclrJ1rY3CsW",
    "outputId": "b6608f99-cd21-4241-cbb5-4738f3827c06"
   },
   "outputs": [
    {
     "data": {
      "text/html": [
       "<div>\n",
       "<style scoped>\n",
       "    .dataframe tbody tr th:only-of-type {\n",
       "        vertical-align: middle;\n",
       "    }\n",
       "\n",
       "    .dataframe tbody tr th {\n",
       "        vertical-align: top;\n",
       "    }\n",
       "\n",
       "    .dataframe thead th {\n",
       "        text-align: right;\n",
       "    }\n",
       "</style>\n",
       "<table border=\"1\" class=\"dataframe\">\n",
       "  <thead>\n",
       "    <tr style=\"text-align: right;\">\n",
       "      <th></th>\n",
       "      <th>Date</th>\n",
       "      <th>Open</th>\n",
       "      <th>High</th>\n",
       "      <th>Low</th>\n",
       "      <th>Close</th>\n",
       "      <th>Adj Close</th>\n",
       "      <th>Volume</th>\n",
       "    </tr>\n",
       "  </thead>\n",
       "  <tbody>\n",
       "    <tr>\n",
       "      <th>count</th>\n",
       "      <td>2155</td>\n",
       "      <td>2155.000000</td>\n",
       "      <td>2155.000000</td>\n",
       "      <td>2155.000000</td>\n",
       "      <td>2155.000000</td>\n",
       "      <td>2155.000000</td>\n",
       "      <td>2.155000e+03</td>\n",
       "    </tr>\n",
       "    <tr>\n",
       "      <th>mean</th>\n",
       "      <td>2020-05-25 11:20:14.477958144</td>\n",
       "      <td>167465.336427</td>\n",
       "      <td>169676.194896</td>\n",
       "      <td>165328.027842</td>\n",
       "      <td>167449.466357</td>\n",
       "      <td>146010.788946</td>\n",
       "      <td>8.557939e+05</td>\n",
       "    </tr>\n",
       "    <tr>\n",
       "      <th>min</th>\n",
       "      <td>2016-01-04 00:00:00</td>\n",
       "      <td>67200.000000</td>\n",
       "      <td>71000.000000</td>\n",
       "      <td>65000.000000</td>\n",
       "      <td>65900.000000</td>\n",
       "      <td>56764.781250</td>\n",
       "      <td>0.000000e+00</td>\n",
       "    </tr>\n",
       "    <tr>\n",
       "      <th>25%</th>\n",
       "      <td>2018-03-19 12:00:00</td>\n",
       "      <td>134250.000000</td>\n",
       "      <td>136000.000000</td>\n",
       "      <td>132500.000000</td>\n",
       "      <td>134000.000000</td>\n",
       "      <td>106803.421875</td>\n",
       "      <td>4.259755e+05</td>\n",
       "    </tr>\n",
       "    <tr>\n",
       "      <th>50%</th>\n",
       "      <td>2020-05-29 00:00:00</td>\n",
       "      <td>159000.000000</td>\n",
       "      <td>161500.000000</td>\n",
       "      <td>157000.000000</td>\n",
       "      <td>159500.000000</td>\n",
       "      <td>127808.257812</td>\n",
       "      <td>5.986560e+05</td>\n",
       "    </tr>\n",
       "    <tr>\n",
       "      <th>75%</th>\n",
       "      <td>2022-08-03 12:00:00</td>\n",
       "      <td>194500.000000</td>\n",
       "      <td>197000.000000</td>\n",
       "      <td>192500.000000</td>\n",
       "      <td>194950.000000</td>\n",
       "      <td>179134.976562</td>\n",
       "      <td>9.311945e+05</td>\n",
       "    </tr>\n",
       "    <tr>\n",
       "      <th>max</th>\n",
       "      <td>2024-10-18 00:00:00</td>\n",
       "      <td>299500.000000</td>\n",
       "      <td>299500.000000</td>\n",
       "      <td>293000.000000</td>\n",
       "      <td>298000.000000</td>\n",
       "      <td>298000.000000</td>\n",
       "      <td>1.993370e+07</td>\n",
       "    </tr>\n",
       "    <tr>\n",
       "      <th>std</th>\n",
       "      <td>NaN</td>\n",
       "      <td>42831.384768</td>\n",
       "      <td>43480.476781</td>\n",
       "      <td>42162.940924</td>\n",
       "      <td>42716.289042</td>\n",
       "      <td>46686.012264</td>\n",
       "      <td>9.388934e+05</td>\n",
       "    </tr>\n",
       "  </tbody>\n",
       "</table>\n",
       "</div>"
      ],
      "text/plain": [
       "                                Date           Open           High  \\\n",
       "count                           2155    2155.000000    2155.000000   \n",
       "mean   2020-05-25 11:20:14.477958144  167465.336427  169676.194896   \n",
       "min              2016-01-04 00:00:00   67200.000000   71000.000000   \n",
       "25%              2018-03-19 12:00:00  134250.000000  136000.000000   \n",
       "50%              2020-05-29 00:00:00  159000.000000  161500.000000   \n",
       "75%              2022-08-03 12:00:00  194500.000000  197000.000000   \n",
       "max              2024-10-18 00:00:00  299500.000000  299500.000000   \n",
       "std                              NaN   42831.384768   43480.476781   \n",
       "\n",
       "                 Low          Close      Adj Close        Volume  \n",
       "count    2155.000000    2155.000000    2155.000000  2.155000e+03  \n",
       "mean   165328.027842  167449.466357  146010.788946  8.557939e+05  \n",
       "min     65000.000000   65900.000000   56764.781250  0.000000e+00  \n",
       "25%    132500.000000  134000.000000  106803.421875  4.259755e+05  \n",
       "50%    157000.000000  159500.000000  127808.257812  5.986560e+05  \n",
       "75%    192500.000000  194950.000000  179134.976562  9.311945e+05  \n",
       "max    293000.000000  298000.000000  298000.000000  1.993370e+07  \n",
       "std     42162.940924   42716.289042   46686.012264  9.388934e+05  "
      ]
     },
     "execution_count": 9,
     "metadata": {},
     "output_type": "execute_result"
    }
   ],
   "source": [
    "df.describe()"
   ]
  },
  {
   "cell_type": "markdown",
   "metadata": {},
   "source": [
    "### Visualisations"
   ]
  },
  {
   "cell_type": "code",
   "execution_count": 10,
   "metadata": {
    "colab": {
     "base_uri": "https://localhost:8080/",
     "height": 448
    },
    "id": "On0oTHFD3IAX",
    "outputId": "b586e893-6626-4d56-dccd-c0a5ff8c28fc"
   },
   "outputs": [
    {
     "data": {
      "text/plain": [
       "<Axes: >"
      ]
     },
     "execution_count": 10,
     "metadata": {},
     "output_type": "execute_result"
    },
    {
     "data": {
      "image/png": "[encoded data removed]",
      "text/plain": [
       "<Figure size 640x480 with 1 Axes>"
      ]
     },
     "metadata": {},
     "output_type": "display_data"
    }
   ],
   "source": [
    "df[['Open', 'High', 'Low', 'Close', 'Adj Close']].plot(kind = 'box')"
   ]
  },
  {
   "cell_type": "code",
   "execution_count": 11,
   "metadata": {
    "colab": {
     "base_uri": "https://localhost:8080/",
     "height": 542
    },
    "id": "btCWcXskH_GL",
    "outputId": "cfec0522-fe36-44af-8b6a-a2729ea66df4"
   },
   "outputs": [
    {
     "data": {
      "text/html": [
       "<iframe\n",
       "    scrolling=\"no\"\n",
       "    width=\"1020px\"\n",
       "    height=\"545px\"\n",
       "    src=\"iframe_figures/figure_11.html\"\n",
       "    frameborder=\"0\"\n",
       "    allowfullscreen\n",
       "></iframe>\n"
      ]
     },
     "metadata": {},
     "output_type": "display_data"
    }
   ],
   "source": [
    "layout = go.Layout(\n",
    "    title='Stock Prices of Hyundai',\n",
    "    xaxis=dict(title='Date'),\n",
    "    yaxis=dict(title='Price'),\n",
    "    width=1000\n",
    ")\n",
    "hyundai_data = [go.Scatter(x=df['Date'], y=df['Close'], mode='lines')]\n",
    "plot = go.Figure(data=hyundai_data, layout=layout)\n",
    "plot.show()"
   ]
  },
  {
   "cell_type": "markdown",
   "metadata": {},
   "source": [
    "### Model Training "
   ]
  },
  {
   "cell_type": "code",
   "execution_count": 12,
   "metadata": {
    "colab": {
     "base_uri": "https://localhost:8080/",
     "height": 206
    },
    "id": "wm0HFhE5IQC7",
    "outputId": "79a603cb-3072-4af1-a3c7-3b211d2396c9"
   },
   "outputs": [
    {
     "data": {
      "text/html": [
       "<div>\n",
       "<style scoped>\n",
       "    .dataframe tbody tr th:only-of-type {\n",
       "        vertical-align: middle;\n",
       "    }\n",
       "\n",
       "    .dataframe tbody tr th {\n",
       "        vertical-align: top;\n",
       "    }\n",
       "\n",
       "    .dataframe thead th {\n",
       "        text-align: right;\n",
       "    }\n",
       "</style>\n",
       "<table border=\"1\" class=\"dataframe\">\n",
       "  <thead>\n",
       "    <tr style=\"text-align: right;\">\n",
       "      <th></th>\n",
       "      <th>Date</th>\n",
       "      <th>Close</th>\n",
       "    </tr>\n",
       "  </thead>\n",
       "  <tbody>\n",
       "    <tr>\n",
       "      <th>0</th>\n",
       "      <td>2016-01-04</td>\n",
       "      <td>0.336493</td>\n",
       "    </tr>\n",
       "    <tr>\n",
       "      <th>1</th>\n",
       "      <td>2016-01-05</td>\n",
       "      <td>0.334339</td>\n",
       "    </tr>\n",
       "    <tr>\n",
       "      <th>2</th>\n",
       "      <td>2016-01-06</td>\n",
       "      <td>0.319259</td>\n",
       "    </tr>\n",
       "    <tr>\n",
       "      <th>3</th>\n",
       "      <td>2016-01-07</td>\n",
       "      <td>0.308488</td>\n",
       "    </tr>\n",
       "    <tr>\n",
       "      <th>4</th>\n",
       "      <td>2016-01-08</td>\n",
       "      <td>0.304179</td>\n",
       "    </tr>\n",
       "  </tbody>\n",
       "</table>\n",
       "</div>"
      ],
      "text/plain": [
       "        Date     Close\n",
       "0 2016-01-04  0.336493\n",
       "1 2016-01-05  0.334339\n",
       "2 2016-01-06  0.319259\n",
       "3 2016-01-07  0.308488\n",
       "4 2016-01-08  0.304179"
      ]
     },
     "execution_count": 12,
     "metadata": {},
     "output_type": "execute_result"
    }
   ],
   "source": [
    "# Scaling the Data\n",
    "scaler = MinMaxScaler(feature_range=(0, 1))\n",
    "df['Close'] = scaler.fit_transform(df[['Close']])\n",
    "\n",
    "# Displaying scaled values\n",
    "df[['Date', 'Close']].head()"
   ]
  },
  {
   "cell_type": "code",
   "execution_count": 13,
   "metadata": {
    "colab": {
     "base_uri": "https://localhost:8080/"
    },
    "id": "-ckdGY5cIYxz",
    "outputId": "d2dd1927-fb55-4d72-a9e8-02d3fca7dc7a"
   },
   "outputs": [
    {
     "name": "stdout",
     "output_type": "stream",
     "text": [
      "Shape of X_data: (2095, 60, 1)\n",
      "Shape of Y_data: (2095,)\n"
     ]
    }
   ],
   "source": [
    "# Defining the lookback period (60 days)\n",
    "lookback = 60\n",
    "X_data, Y_data = [], []\n",
    "\n",
    "# Looping through data to create sequences safely\n",
    "for i in range(lookback, len(df['Close'])):\n",
    "    X_data.append(df['Close'].iloc[i-lookback:i].values) \n",
    "    Y_data.append(df['Close'].iloc[i])\n",
    "\n",
    "# Convert them to numpy arrays\n",
    "X_data, Y_data = np.array(X_data), np.array(Y_data)\n",
    "\n",
    "# Reshaping the data to fit LSTM input (samples, time steps, features)\n",
    "X_data = np.reshape(X_data, (X_data.shape[0], X_data.shape[1], 1))\n",
    "\n",
    "print(f\"Shape of X_data: {X_data.shape}\")\n",
    "print(f\"Shape of Y_data: {Y_data.shape}\")"
   ]
  },
  {
   "cell_type": "code",
   "execution_count": 14,
   "metadata": {
    "colab": {
     "base_uri": "https://localhost:8080/"
    },
    "id": "q7oRV1b4JAec",
    "outputId": "a1c40a14-05a5-4126-ee2a-fdcb9b0c9e47"
   },
   "outputs": [
    {
     "name": "stdout",
     "output_type": "stream",
     "text": [
      "Shape of X_train: (1676, 60, 1), Y_train: (1676,)\n",
      "Shape of X_test: (419, 60, 1), Y_test: (419,)\n"
     ]
    }
   ],
   "source": [
    "#Splitting the Data into training and testing datasets\n",
    "train_size = int(len(X_data) * 0.8)\n",
    "X_train, X_test = X_data[:train_size], X_data[train_size:]\n",
    "Y_train, Y_test = Y_data[:train_size], Y_data[train_size:]\n",
    "\n",
    "print(f\"Shape of X_train: {X_train.shape}, Y_train: {Y_train.shape}\")\n",
    "print(f\"Shape of X_test: {X_test.shape}, Y_test: {Y_test.shape}\")"
   ]
  },
  {
   "cell_type": "code",
   "execution_count": 15,
   "metadata": {
    "id": "PB7RuZU4nlH6"
   },
   "outputs": [],
   "source": [
    "train_size = int(len(df) * 0.8)\n",
    "train_data = df[:train_size]\n",
    "test_data = df[train_size:].copy()  "
   ]
  },
  {
   "cell_type": "code",
   "execution_count": 16,
   "metadata": {
    "id": "VzbCndSBJD32"
   },
   "outputs": [],
   "source": [
    "# Adding the LSTM Model\n",
    "model = Sequential()\n",
    "model.add(LSTM(units=50, return_sequences=True, input_shape=(X_train.shape[1], 1)))\n",
    "model.add(LSTM(units=50, return_sequences=False))\n",
    "model.add(Dense(units=25))\n",
    "model.add(Dense(units=1))\n",
    "\n",
    "# Compiling the model\n",
    "model.compile(optimizer='adam', loss='mean_squared_error')"
   ]
  },
  {
   "cell_type": "code",
   "execution_count": 17,
   "metadata": {
    "colab": {
     "base_uri": "https://localhost:8080/"
    },
    "id": "HvZgW_cmJJnc",
    "outputId": "6492575f-263d-4566-81fb-4fa65bdc8a06"
   },
   "outputs": [
    {
     "name": "stdout",
     "output_type": "stream",
     "text": [
      "Epoch 1/30\n",
      "53/53 - 11s - 208ms/step - loss: 0.0100\n",
      "Epoch 2/30\n",
      "53/53 - 3s - 56ms/step - loss: 0.0011\n",
      "Epoch 3/30\n",
      "53/53 - 3s - 55ms/step - loss: 0.0011\n",
      "Epoch 4/30\n",
      "53/53 - 3s - 58ms/step - loss: 0.0011\n",
      "Epoch 5/30\n",
      "53/53 - 3s - 55ms/step - loss: 9.1575e-04\n",
      "Epoch 6/30\n",
      "53/53 - 3s - 55ms/step - loss: 8.6780e-04\n",
      "Epoch 7/30\n",
      "53/53 - 3s - 55ms/step - loss: 8.0833e-04\n",
      "Epoch 8/30\n",
      "53/53 - 3s - 58ms/step - loss: 8.1036e-04\n",
      "Epoch 9/30\n",
      "53/53 - 3s - 51ms/step - loss: 8.1175e-04\n",
      "Epoch 10/30\n",
      "53/53 - 3s - 58ms/step - loss: 6.9498e-04\n",
      "Epoch 11/30\n",
      "53/53 - 3s - 64ms/step - loss: 8.0489e-04\n",
      "Epoch 12/30\n",
      "53/53 - 3s - 60ms/step - loss: 6.4812e-04\n",
      "Epoch 13/30\n",
      "53/53 - 3s - 57ms/step - loss: 7.8392e-04\n",
      "Epoch 14/30\n",
      "53/53 - 4s - 67ms/step - loss: 6.1407e-04\n",
      "Epoch 15/30\n",
      "53/53 - 3s - 62ms/step - loss: 5.7969e-04\n",
      "Epoch 16/30\n",
      "53/53 - 3s - 62ms/step - loss: 5.6192e-04\n",
      "Epoch 17/30\n",
      "53/53 - 3s - 64ms/step - loss: 5.3505e-04\n",
      "Epoch 18/30\n",
      "53/53 - 3s - 63ms/step - loss: 5.0892e-04\n",
      "Epoch 19/30\n",
      "53/53 - 3s - 60ms/step - loss: 5.1276e-04\n",
      "Epoch 20/30\n",
      "53/53 - 3s - 57ms/step - loss: 5.2339e-04\n",
      "Epoch 21/30\n",
      "53/53 - 3s - 56ms/step - loss: 5.4742e-04\n",
      "Epoch 22/30\n",
      "53/53 - 3s - 55ms/step - loss: 5.2859e-04\n",
      "Epoch 23/30\n",
      "53/53 - 3s - 55ms/step - loss: 4.5352e-04\n",
      "Epoch 24/30\n",
      "53/53 - 3s - 60ms/step - loss: 4.2288e-04\n",
      "Epoch 25/30\n",
      "53/53 - 4s - 69ms/step - loss: 4.6279e-04\n",
      "Epoch 26/30\n",
      "53/53 - 3s - 62ms/step - loss: 4.2091e-04\n",
      "Epoch 27/30\n",
      "53/53 - 3s - 56ms/step - loss: 3.9263e-04\n",
      "Epoch 28/30\n",
      "53/53 - 3s - 61ms/step - loss: 3.7678e-04\n",
      "Epoch 29/30\n",
      "53/53 - 3s - 63ms/step - loss: 3.8270e-04\n",
      "Epoch 30/30\n",
      "53/53 - 3s - 61ms/step - loss: 3.5977e-04\n"
     ]
    },
    {
     "data": {
      "text/plain": [
       "<keras.src.callbacks.history.History at 0x2e62ddfa7d0>"
      ]
     },
     "execution_count": 17,
     "metadata": {},
     "output_type": "execute_result"
    }
   ],
   "source": [
    "# Training the Epochs \n",
    "epochs = 30  \n",
    "batch_size = 32\n",
    "model.fit(X_train, Y_train, batch_size=batch_size, epochs=epochs, verbose=2)"
   ]
  },
  {
   "cell_type": "code",
   "execution_count": 18,
   "metadata": {
    "colab": {
     "base_uri": "https://localhost:8080/"
    },
    "id": "wgklwoUsdm0e",
    "outputId": "fa12db5b-914f-4660-d8b5-e19bd2babd8d"
   },
   "outputs": [
    {
     "name": "stdout",
     "output_type": "stream",
     "text": [
      "\u001b[1m14/14\u001b[0m \u001b[32m━━━━━━━━━━━━━━━━━━━━\u001b[0m\u001b[37m\u001b[0m \u001b[1m2s\u001b[0m 72ms/step\n",
      "Length of predictions: 419\n",
      "Length of test_data: 431\n"
     ]
    }
   ],
   "source": [
    "# Making predictions\n",
    "predictions = model.predict(X_test)\n",
    "predictions = scaler.inverse_transform(predictions)\n",
    "\n",
    "# Debugging lengths\n",
    "print(f\"Length of predictions: {len(predictions)}\")\n",
    "print(f\"Length of test_data: {len(test_data)}\")"
   ]
  },
  {
   "cell_type": "code",
   "execution_count": 19,
   "metadata": {
    "colab": {
     "base_uri": "https://localhost:8080/"
    },
    "id": "zUPGDih4dxlc",
    "outputId": "2166aab5-ff1d-4652-dc64-7f52c46a0efa"
   },
   "outputs": [
    {
     "name": "stdout",
     "output_type": "stream",
     "text": [
      "\u001b[1m12/12\u001b[0m \u001b[32m━━━━━━━━━━━━━━━━━━━━\u001b[0m\u001b[37m\u001b[0m \u001b[1m0s\u001b[0m 25ms/step\n",
      "Actual Values:\n",
      "2145    0.737182\n",
      "2146    0.747953\n",
      "2147    0.780267\n",
      "2148    0.775959\n",
      "2149    0.775959\n",
      "2150    0.786730\n",
      "2151    0.786730\n",
      "2152    0.775959\n",
      "2153    0.780267\n",
      "2155    0.726411\n",
      "Name: Close, dtype: float64\n",
      "\n",
      "Predicted Values:\n",
      "2145    246490.796875\n",
      "2146    238539.000000\n",
      "2147    235011.421875\n",
      "2148    237756.812500\n",
      "2149    240502.031250\n",
      "2150    242308.953125\n",
      "2151    244400.687500\n",
      "2152    245601.937500\n",
      "2153    244802.328125\n",
      "2155    244320.109375\n",
      "Name: Predictions, dtype: float32\n"
     ]
    }
   ],
   "source": [
    "# Ensure the correct slicing of test_data\n",
    "lookback = 60  \n",
    "\n",
    "# Defining the training and test sizes\n",
    "train_size = int(len(df) * 0.8)\n",
    "train_data = df[:train_size]\n",
    "test_data = df[train_size:].copy()  \n",
    "\n",
    "# Creating X_test sequences \n",
    "X_test_data = []\n",
    "for i in range(lookback, len(test_data)):\n",
    "    X_test_data.append(test_data['Close'].iloc[i-lookback:i].values)\n",
    "\n",
    "# Reshaping \n",
    "X_test_data = np.array(X_test_data)\n",
    "X_test_data = np.reshape(X_test_data, (X_test_data.shape[0], X_test_data.shape[1], 1))\n",
    "\n",
    "# Making Predictions \n",
    "predictions = model.predict(X_test_data)\n",
    "predictions = scaler.inverse_transform(predictions)\n",
    "\n",
    "# Adjusting the valid dataframe \n",
    "valid = test_data.iloc[lookback:lookback + len(predictions)].copy()  \n",
    "valid['Predictions'] = predictions  \n",
    "\n",
    "print(\"Actual Values:\")\n",
    "print(valid['Close'].tail(10))  \n",
    "\n",
    "print(\"\\nPredicted Values:\")\n",
    "print(valid['Predictions'].tail(10))  "
   ]
  },
  {
   "cell_type": "code",
   "execution_count": 20,
   "metadata": {
    "colab": {
     "base_uri": "https://localhost:8080/"
    },
    "id": "k52MBaZEeqKK",
    "outputId": "412621e3-895f-487b-929b-f3090428028e"
   },
   "outputs": [
    {
     "name": "stdout",
     "output_type": "stream",
     "text": [
      "\u001b[1m12/12\u001b[0m \u001b[32m━━━━━━━━━━━━━━━━━━━━\u001b[0m\u001b[37m\u001b[0m \u001b[1m0s\u001b[0m 22ms/step\n"
     ]
    }
   ],
   "source": [
    "# Scaling\n",
    "scaler = MinMaxScaler(feature_range=(0, 1))\n",
    "df['Close'] = scaler.fit_transform(df[['Close']])\n",
    "\n",
    "# Making predictions \n",
    "predictions = model.predict(X_test_data)\n",
    "predictions = scaler.inverse_transform(predictions)"
   ]
  },
  {
   "cell_type": "code",
   "execution_count": 21,
   "metadata": {
    "colab": {
     "base_uri": "https://localhost:8080/"
    },
    "id": "BCs_spRbesAM",
    "outputId": "c59aa569-c7c4-4b45-ba18-574364b2620e"
   },
   "outputs": [
    {
     "name": "stdout",
     "output_type": "stream",
     "text": [
      "Scaled Close Values:\n",
      "0    0.336493\n",
      "1    0.334339\n",
      "2    0.319259\n",
      "3    0.308488\n",
      "4    0.304179\n",
      "Name: Close, dtype: float64\n",
      "Shape of predictions before inverse transform: (371, 1)\n",
      "Predictions after inverse transform:\n",
      "[[0.5092938 ]\n",
      " [0.5096491 ]\n",
      " [0.52071357]\n",
      " [0.54107445]\n",
      " [0.55735475]\n",
      " [0.56104314]\n",
      " [0.5575523 ]\n",
      " [0.5465587 ]\n",
      " [0.5414751 ]\n",
      " [0.53776395]]\n"
     ]
    }
   ],
   "source": [
    "print(\"Scaled Close Values:\")\n",
    "print(df['Close'].head()) \n",
    "\n",
    "print(\"Shape of predictions before inverse transform:\", predictions.shape)\n",
    "\n",
    "# Applying inverse transform\n",
    "predictions = scaler.inverse_transform(predictions)\n",
    "\n",
    "print(\"Predictions after inverse transform:\")\n",
    "print(predictions[:10])  "
   ]
  },
  {
   "cell_type": "code",
   "execution_count": 22,
   "metadata": {
    "colab": {
     "base_uri": "https://localhost:8080/"
    },
    "id": "DjaGKraLfOnI",
    "outputId": "2229aa56-0025-4d1d-b69c-77e767bbd447"
   },
   "outputs": [
    {
     "name": "stdout",
     "output_type": "stream",
     "text": [
      "Length of X_test: 419\n",
      "Length of Y_test: 419\n"
     ]
    }
   ],
   "source": [
    "print(f\"Length of X_test: {len(X_test)}\")\n",
    "print(f\"Length of Y_test: {len(Y_test)}\")"
   ]
  },
  {
   "cell_type": "code",
   "execution_count": 23,
   "metadata": {
    "colab": {
     "base_uri": "https://localhost:8080/"
    },
    "id": "gTBJkuTFfUOR",
    "outputId": "415ff6d3-ff3d-48a2-8bb1-bc897fec3d95"
   },
   "outputs": [
    {
     "name": "stdout",
     "output_type": "stream",
     "text": [
      "Shape of X_test: (419, 60, 1)\n"
     ]
    }
   ],
   "source": [
    "print(f\"Shape of X_test: {X_test.shape}\")  "
   ]
  },
  {
   "cell_type": "code",
   "execution_count": 24,
   "metadata": {
    "colab": {
     "base_uri": "https://localhost:8080/"
    },
    "id": "-kYU6e2OfZ7U",
    "outputId": "cb772fbc-ff49-4a0c-8163-928db36488a9"
   },
   "outputs": [
    {
     "name": "stdout",
     "output_type": "stream",
     "text": [
      "\u001b[1m14/14\u001b[0m \u001b[32m━━━━━━━━━━━━━━━━━━━━\u001b[0m\u001b[37m\u001b[0m \u001b[1m0s\u001b[0m 23ms/step\n",
      "Length of Predictions: 419\n"
     ]
    }
   ],
   "source": [
    "# Making new predictions\n",
    "predictions = model.predict(X_test)\n",
    "\n",
    "# Checking the length of predictions\n",
    "print(f\"Length of Predictions: {len(predictions)}\")"
   ]
  },
  {
   "cell_type": "code",
   "execution_count": 25,
   "metadata": {
    "id": "_IgI4PnffkpT"
   },
   "outputs": [],
   "source": [
    "# Inverse transform the predictions\n",
    "predictions = scaler.inverse_transform(predictions)"
   ]
  },
  {
   "cell_type": "code",
   "execution_count": 26,
   "metadata": {
    "id": "SrgPe8fHfmaT"
   },
   "outputs": [],
   "source": [
    "# Inverse transform Y_test to get actual values in original scale\n",
    "actual_values = scaler.inverse_transform(Y_test.reshape(-1, 1))"
   ]
  },
  {
   "cell_type": "code",
   "execution_count": 27,
   "metadata": {
    "colab": {
     "base_uri": "https://localhost:8080/"
    },
    "id": "dDVqrVSZfpgk",
    "outputId": "9b2e179a-3a4e-49d2-9182-886f355147d8"
   },
   "outputs": [
    {
     "name": "stdout",
     "output_type": "stream",
     "text": [
      "       Actual  Predicted\n",
      "409  0.737182   0.778073\n",
      "410  0.747953   0.743813\n",
      "411  0.780267   0.728615\n",
      "412  0.775959   0.740443\n",
      "413  0.775959   0.752271\n",
      "414  0.786730   0.760056\n",
      "415  0.786730   0.769068\n",
      "416  0.775959   0.774244\n",
      "417  0.780267   0.770799\n",
      "418  0.726411   0.768721\n"
     ]
    }
   ],
   "source": [
    "# Creating a comparison dataframe to compare actual vs predicted values\n",
    "comparison_df = pd.DataFrame({\n",
    "    'Actual': actual_values.flatten(),\n",
    "    'Predicted': predictions.flatten()\n",
    "})\n",
    "\n",
    "print(comparison_df.tail(10))"
   ]
  },
  {
   "cell_type": "code",
   "execution_count": 28,
   "metadata": {
    "colab": {
     "base_uri": "https://localhost:8080/"
    },
    "id": "ETWhs_Yvfwf8",
    "outputId": "37443c32-ef68-4bbf-b0de-9392af155488"
   },
   "outputs": [
    {
     "name": "stdout",
     "output_type": "stream",
     "text": [
      "RMSE: 0.0251671367400573\n",
      "R-squared: 0.9687298491484806\n"
     ]
    }
   ],
   "source": [
    "from sklearn.metrics import mean_squared_error, r2_score\n",
    "# Calculating the RMSE to measure the average prediction error \n",
    "rmse = np.sqrt(mean_squared_error(actual_values, predictions))\n",
    "\n",
    "# R-squared (R²) score to assess the proportion of variance explained by the model.\n",
    "r2 = r2_score(actual_values, predictions)\n",
    "\n",
    "print(f\"RMSE: {rmse}\")\n",
    "print(f\"R-squared: {r2}\")"
   ]
  },
  {
   "cell_type": "code",
   "execution_count": 29,
   "metadata": {
    "colab": {
     "base_uri": "https://localhost:8080/",
     "height": 487
    },
    "id": "uJWjI69hf0d0",
    "outputId": "bf95af10-58d2-44a0-f7d4-1398fbeac28c"
   },
   "outputs": [
    {
     "data": {
      "image/png": "[encoded data removed]",
      "text/plain": [
       "<Figure size 1400x500 with 1 Axes>"
      ]
     },
     "metadata": {},
     "output_type": "display_data"
    }
   ],
   "source": [
    "# Plotting Actual vs Predicted \n",
    "plt.figure(figsize=(14, 5))\n",
    "plt.plot(comparison_df['Actual'], label='Actual', color='blue')\n",
    "plt.plot(comparison_df['Predicted'], label='Predicted', color='red')\n",
    "plt.title('Actual vs Predicted Close Prices')\n",
    "plt.xlabel('Time Step')\n",
    "plt.ylabel('Close Price')\n",
    "plt.legend()\n",
    "plt.show()"
   ]
  }
 ],
 "metadata": {
  "colab": {
   "provenance": []
  },
  "kernelspec": {
   "display_name": "Python 3 (ipykernel)",
   "language": "python",
   "name": "python3"
  },
  "language_info": {
   "codemirror_mode": {
    "name": "ipython",
    "version": 3
   },
   "file_extension": ".py",
   "mimetype": "text/x-python",
   "name": "python",
   "nbconvert_exporter": "python",
   "pygments_lexer": "ipython3",
   "version": "3.11.2"
  }
 },
 "nbformat": 4,
 "nbformat_minor": 4
}
